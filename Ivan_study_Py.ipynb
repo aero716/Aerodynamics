{
 "cells": [
  {
   "cell_type": "markdown",
   "metadata": {},
   "source": [
    "<h1 align='center'> Учебный ноутбук Ивана </h1>"
   ]
  },
  {
   "cell_type": "markdown",
   "metadata": {},
   "source": [
    "<h3> <font color=\"red\"> 19/07/2020 </font> </h3>"
   ]
  },
  {
   "cell_type": "markdown",
   "metadata": {},
   "source": [
    "<b> 1. Наглядная запись чисел </b>\n",
    "<p> Итак, можно (нужно) использовать записи для больших чисел в таком виде: </p>\n",
    "<p> 1.e5 или 1000_000 </p>\n",
    "<p> Степень может быть и отрицательной: 1.2e-5 </p>"
   ]
  },
  {
   "cell_type": "code",
   "execution_count": 59,
   "metadata": {},
   "outputs": [],
   "source": [
    "p1 = 1000_000\n",
    "p2 = 1.4e-5"
   ]
  },
  {
   "cell_type": "markdown",
   "metadata": {},
   "source": [
    "<b> 2. Комментарии в Питоне: </b>\n"
   ]
  },
  {
   "cell_type": "code",
   "execution_count": 6,
   "metadata": {},
   "outputs": [
    {
     "data": {
      "text/plain": "'\\n    Многострочный\\n    комментарий\\n'"
     },
     "execution_count": 6,
     "metadata": {},
     "output_type": "execute_result"
    }
   ],
   "source": [
    "'''\n",
    "    Многострочный\n",
    "    комментарий (можно использовать кавычки)\n",
    "'''\n",
    "# Однострочный "
   ]
  },
  {
   "cell_type": "markdown",
   "metadata": {},
   "source": [
    "<b> 3. Заголовки и текст в ноутбуке: </b>\n",
    "<p> Сначала сделать ячейку типа Markdown (вверху ячейки буква М и стрелка вниз) </p>\n",
    "<p> Затем ввести html код. Щёлкни на эту ячейку - посмотри его. </p>\n",
    "<p> Теги h1 ... h3 - Заголовки </p>\n",
    "<p> Тег p - абзац </p>\n",
    "<p> Тег имеет 2 части - открывающую и закрывающую </p>\n",
    "<p> Можно использовать язык MarkDown - он менее гибкий, но проще </p>"
   ]
  },
  {
   "cell_type": "markdown",
   "metadata": {},
   "source": [
    "<b> 4. Массивы: </b>\n",
    "<p> Можно использовать библиотеку Numpy или использовать встроенные </p>\n",
    "<p> Встроенные массивы - это списки. Двумерный массив - список списков </p>\n",
    "<p> Элементы могут быть разного типа </p>"
   ]
  },
  {
   "cell_type": "code",
   "execution_count": 13,
   "metadata": {},
   "outputs": [
    {
     "data": {
      "text/plain": "[[1], [2, 3], [4, 5, 6]]"
     },
     "execution_count": 13,
     "metadata": {},
     "output_type": "execute_result"
    }
   ],
   "source": [
    "# В общем виде двумерный массив выглядит так. Он может быть ступенчатым\n",
    "s1 = [1]\n",
    "s2 = [2, 3]\n",
    "s3 = [4, 5, 6]\n",
    "myArr = [s1, s2, s3]\n",
    "myArr"
   ]
  },
  {
   "cell_type": "code",
   "execution_count": 20,
   "metadata": {},
   "outputs": [
    {
     "data": {
      "text/plain": "[2, 3]"
     },
     "execution_count": 20,
     "metadata": {},
     "output_type": "execute_result"
    }
   ],
   "source": [
    "# Обращение к элементам массива:\n",
    "myArr[1]"
   ]
  },
  {
   "cell_type": "markdown",
   "metadata": {},
   "source": [
    "<b> 5. Циклы: </b>"
   ]
  },
  {
   "cell_type": "code",
   "execution_count": 21,
   "metadata": {
    "tags": []
   },
   "outputs": [
    {
     "name": "stdout",
     "output_type": "stream",
     "text": [
      "4\n",
      "5\n",
      "6\n"
     ]
    }
   ],
   "source": [
    "# Обычно используется цикл for\n",
    "# len(s3) - длина массива\n",
    "# range - итератор для цикла\n",
    "for i in range(len(s3)):\n",
    "    print(s3[i])"
   ]
  },
  {
   "cell_type": "code",
   "execution_count": 23,
   "metadata": {
    "tags": []
   },
   "outputs": [
    {
     "name": "stdout",
     "output_type": "stream",
     "text": [
      "4\n",
      "5\n",
      "6\n"
     ]
    }
   ],
   "source": [
    "# А можно просто перебирать элементы в массиве:\n",
    "for el in s3:\n",
    "    print(el)"
   ]
  },
  {
   "cell_type": "markdown",
   "metadata": {},
   "source": [
    "<b> 5. Условия: </b>"
   ]
  },
  {
   "cell_type": "code",
   "execution_count": 25,
   "metadata": {
    "tags": []
   },
   "outputs": [
    {
     "name": "stdout",
     "output_type": "stream",
     "text": [
      "Верно\n"
     ]
    }
   ],
   "source": [
    "if(2<3):\n",
    "    print(\"Верно\")\n",
    "else:\n",
    "    print(\"Не верно\")"
   ]
  },
  {
   "cell_type": "markdown",
   "metadata": {},
   "source": [
    "<b> 6. Парадигмы программирования: </b> "
   ]
  },
  {
   "cell_type": "markdown",
   "metadata": {},
   "source": [
    "1. Процедурное программирование. Это обычный подход. Код делится на функции, которые последовательно выполняются. Так мы писали на фортране;\n",
    "2. Объектно-ориентированное. Расскажу отдельно;\n",
    "3. Модульное - это использование готовых модулей. Ты уже сейчас используешь этот подход, когда импортируешь в программу модули, например, import math;\n",
    "4. Функциональное. Это когда используются готовые функции, выполняющие какие то сложные задачи. Например, сортировка массива. Вызовом одной функции решается сложная задача. Это в основном относится к математическим задачам. Например, функция интегрирования. Так работают системы компьютерной алгебры типа Mathemftica или wxMaxima. Программа выглядит как последовательный вызов функций;\n",
    "<p> Языки программирования обычно представляют собой гибрид всех парадигм программирования. </p>"
   ]
  },
  {
   "cell_type": "markdown",
   "metadata": {},
   "source": [
    "<h4> Объектно-ориентированное программирование. </h4>\n",
    "Описываются объекты реального мира. Например, круг. Он имеет диаметр, площадь, длину окружности. Класс описывает его параметры и поведение. На основе класса создаются объекты. Класс - это как бы чертеж по которому может быть создано много объектов. Пример:"
   ]
  },
  {
   "cell_type": "code",
   "execution_count": 26,
   "metadata": {},
   "outputs": [],
   "source": [
    "class Circle:\n",
    "    \n",
    "    # Функции для вычислений:\n",
    "    def calc_area(self):\n",
    "        self.area=3.14*self.r**2.\n",
    "    def calc_length(self):\n",
    "        self.length_arc=6.28*self.r\n",
    "    \n",
    "    # Конструктор (правило создание объекта)\n",
    "    def __init__(self, r1=1.):  \n",
    "        self.r=r1\n",
    "        self.calc_area()\n",
    "        self.calc_length()"
   ]
  },
  {
   "cell_type": "code",
   "execution_count": 33,
   "metadata": {},
   "outputs": [
    {
     "data": {
      "text/plain": "(2.0, 12.56, 12.56)"
     },
     "execution_count": 33,
     "metadata": {},
     "output_type": "execute_result"
    }
   ],
   "source": [
    "# Создаём наш объект на основе класса (вызываем конструктор): \n",
    "myCircle = Circle(2.)\n",
    "\n",
    "# Выводим поля объекта:\n",
    "myCircle.r, myCircle.area, myCircle.length_arc"
   ]
  },
  {
   "cell_type": "markdown",
   "metadata": {},
   "source": [
    "Можем создать массив окружностей:"
   ]
  },
  {
   "cell_type": "code",
   "execution_count": 35,
   "metadata": {},
   "outputs": [],
   "source": [
    "myCircleArr = []\n",
    "for i in range(1, 10):\n",
    "    myCircleArr.append(Circle(i)) "
   ]
  },
  {
   "cell_type": "markdown",
   "metadata": {},
   "source": [
    "Теперь имеем массив объекторв типа окружность, можем у каждого спросить его свойство (радиус, площадь, длина)."
   ]
  },
  {
   "cell_type": "code",
   "execution_count": 40,
   "metadata": {},
   "outputs": [
    {
     "data": {
      "text/plain": "28.26"
     },
     "execution_count": 40,
     "metadata": {},
     "output_type": "execute_result"
    }
   ],
   "source": [
    "myCircleArr[2].area"
   ]
  },
  {
   "cell_type": "markdown",
   "metadata": {},
   "source": [
    "Основные принципы ООП:\n",
    "- Наследование: классы можно наследовать друг от друга уменьшая объём кода;\n",
    "- Инкапсуляция: данные и методы скрыты внутри класса. Класс - как бы чёрный ящик, имеющий только вход и выход. Это позволяет увеличить безопасность;\n",
    "- Полиморфизм. Поведение класса может быть разным в зависимости от ситуации. Тут идея такая: создаёшь абстрактный класс, от него наследуешь другие классы. И можешь с ними работать как с однотипными, так как они наследники одного класса. Хотя и ведут себя по разному.\n",
    "Пример: абстрактный класс - фигура. От него наследуем окружности, квадраты, прямоугольники. Загоняем их в один массив и работаем с ними как с одностипными. Даём команду отрисовать и рисуются круги, квадраты и тд. Говорим - посчитать площади, и каждая фигура считает свою площадь по своей формуле. "
   ]
  },
  {
   "cell_type": "markdown",
   "metadata": {},
   "source": [
    "<b> 7. Построение графиков: </b> "
   ]
  },
  {
   "cell_type": "code",
   "execution_count": 41,
   "metadata": {},
   "outputs": [],
   "source": [
    "import matplotlib.pyplot as plt"
   ]
  },
  {
   "cell_type": "markdown",
   "metadata": {},
   "source": [
    "Построим как меняется площадь в зависимости от радиуса для созданных выше объектов окружностей."
   ]
  },
  {
   "cell_type": "code",
   "execution_count": 51,
   "metadata": {},
   "outputs": [
    {
     "data": {
      "text/plain": "([1, 2, 3, 4, 5, 6, 7, 8, 9],\n [3.14, 12.56, 28.26, 50.24, 78.5, 113.04, 153.86, 200.96, 254.34])"
     },
     "execution_count": 51,
     "metadata": {},
     "output_type": "execute_result"
    }
   ],
   "source": [
    "x = []  # Создаём массивы для построения\n",
    "y = []\n",
    "# Записываем значения из объектов в эти массивы:\n",
    "for el in myCircleArr:\n",
    "    x.append(el.r)\n",
    "    y.append(el.area)\n",
    "# Получили такие массивы:\n",
    "x, y"
   ]
  },
  {
   "cell_type": "code",
   "execution_count": 57,
   "metadata": {},
   "outputs": [
    {
     "data": {
      "image/png": "[encoded data removed]",
      "image/svg+xml": "<?xml version=\"1.0\" encoding=\"utf-8\" standalone=\"no\"?>\r\n<!DOCTYPE svg PUBLIC \"-//W3C//DTD SVG 1.1//EN\"\r\n  \"http://www.w3.org/Graphics/SVG/1.1/DTD/svg11.dtd\">\r\n<!-- Created with matplotlib (https://matplotlib.org/) -->\r\n<svg height=\"277.314375pt\" version=\"1.1\" viewBox=\"0 0 392.465625 277.314375\" width=\"392.465625pt\" xmlns=\"http://www.w3.org/2000/svg\" xmlns:xlink=\"http://www.w3.org/1999/xlink\">\r\n <defs>\r\n  <style type=\"text/css\">\r\n*{stroke-linecap:butt;stroke-linejoin:round;}\r\n  </style>\r\n </defs>\r\n <g id=\"figure_1\">\r\n  <g id=\"patch_1\">\r\n   <path d=\"M 0 277.314375 \r\nL 392.465625 277.314375 \r\nL 392.465625 0 \r\nL 0 0 \r\nz\r\n\" style=\"fill:none;\"/>\r\n  </g>\r\n  <g id=\"axes_1\">\r\n   <g id=\"patch_2\">\r\n    <path d=\"M 46.965625 239.758125 \r\nL 381.765625 239.758125 \r\nL 381.765625 22.318125 \r\nL 46.965625 22.318125 \r\nz\r\n\" style=\"fill:#ffffff;\"/>\r\n   </g>\r\n   <g id=\"matplotlib.axis_1\">\r\n    <g id=\"xtick_1\">\r\n     <g id=\"line2d_1\">\r\n      <path clip-path=\"url(#pcb307bc001)\" d=\"M 62.183807 239.758125 \r\nL 62.183807 22.318125 \r\n\" style=\"fill:none;stroke:#b0b0b0;stroke-linecap:square;stroke-width:0.8;\"/>\r\n     </g>\r\n     <g id=\"line2d_2\">\r\n      <defs>\r\n       <path d=\"M 0 0 \r\nL 0 3.5 \r\n\" id=\"ma3c3a193e4\" style=\"stroke:#000000;stroke-width:0.8;\"/>\r\n      </defs>\r\n      <g>\r\n       <use style=\"stroke:#000000;stroke-width:0.8;\" x=\"62.183807\" xlink:href=\"#ma3c3a193e4\" y=\"239.758125\"/>\r\n      </g>\r\n     </g>\r\n     <g id=\"text_1\">\r\n      <!-- 1 -->\r\n      <defs>\r\n       <path d=\"M 12.40625 8.296875 \r\nL 28.515625 8.296875 \r\nL 28.515625 63.921875 \r\nL 10.984375 60.40625 \r\nL 10.984375 69.390625 \r\nL 28.421875 72.90625 \r\nL 38.28125 72.90625 \r\nL 38.28125 8.296875 \r\nL 54.390625 8.296875 \r\nL 54.390625 0 \r\nL 12.40625 0 \r\nz\r\n\" id=\"DejaVuSans-49\"/>\r\n      </defs>\r\n      <g transform=\"translate(59.002557 254.356562)scale(0.1 -0.1)\">\r\n       <use xlink:href=\"#DejaVuSans-49\"/>\r\n      </g>\r\n     </g>\r\n    </g>\r\n    <g id=\"xtick_2\">\r\n     <g id=\"line2d_3\">\r\n      <path clip-path=\"url(#pcb307bc001)\" d=\"M 100.229261 239.758125 \r\nL 100.229261 22.318125 \r\n\" style=\"fill:none;stroke:#b0b0b0;stroke-linecap:square;stroke-width:0.8;\"/>\r\n     </g>\r\n     <g id=\"line2d_4\">\r\n      <g>\r\n       <use style=\"stroke:#000000;stroke-width:0.8;\" x=\"100.229261\" xlink:href=\"#ma3c3a193e4\" y=\"239.758125\"/>\r\n      </g>\r\n     </g>\r\n     <g id=\"text_2\">\r\n      <!-- 2 -->\r\n      <defs>\r\n       <path d=\"M 19.1875 8.296875 \r\nL 53.609375 8.296875 \r\nL 53.609375 0 \r\nL 7.328125 0 \r\nL 7.328125 8.296875 \r\nQ 12.9375 14.109375 22.625 23.890625 \r\nQ 32.328125 33.6875 34.8125 36.53125 \r\nQ 39.546875 41.84375 41.421875 45.53125 \r\nQ 43.3125 49.21875 43.3125 52.78125 \r\nQ 43.3125 58.59375 39.234375 62.25 \r\nQ 35.15625 65.921875 28.609375 65.921875 \r\nQ 23.96875 65.921875 18.8125 64.3125 \r\nQ 13.671875 62.703125 7.8125 59.421875 \r\nL 7.8125 69.390625 \r\nQ 13.765625 71.78125 18.9375 73 \r\nQ 24.125 74.21875 28.421875 74.21875 \r\nQ 39.75 74.21875 46.484375 68.546875 \r\nQ 53.21875 62.890625 53.21875 53.421875 \r\nQ 53.21875 48.921875 51.53125 44.890625 \r\nQ 49.859375 40.875 45.40625 35.40625 \r\nQ 44.1875 33.984375 37.640625 27.21875 \r\nQ 31.109375 20.453125 19.1875 8.296875 \r\nz\r\n\" id=\"DejaVuSans-50\"/>\r\n      </defs>\r\n      <g transform=\"translate(97.048011 254.356562)scale(0.1 -0.1)\">\r\n       <use xlink:href=\"#DejaVuSans-50\"/>\r\n      </g>\r\n     </g>\r\n    </g>\r\n    <g id=\"xtick_3\">\r\n     <g id=\"line2d_5\">\r\n      <path clip-path=\"url(#pcb307bc001)\" d=\"M 138.274716 239.758125 \r\nL 138.274716 22.318125 \r\n\" style=\"fill:none;stroke:#b0b0b0;stroke-linecap:square;stroke-width:0.8;\"/>\r\n     </g>\r\n     <g id=\"line2d_6\">\r\n      <g>\r\n       <use style=\"stroke:#000000;stroke-width:0.8;\" x=\"138.274716\" xlink:href=\"#ma3c3a193e4\" y=\"239.758125\"/>\r\n      </g>\r\n     </g>\r\n     <g id=\"text_3\">\r\n      <!-- 3 -->\r\n      <defs>\r\n       <path d=\"M 40.578125 39.3125 \r\nQ 47.65625 37.796875 51.625 33 \r\nQ 55.609375 28.21875 55.609375 21.1875 \r\nQ 55.609375 10.40625 48.1875 4.484375 \r\nQ 40.765625 -1.421875 27.09375 -1.421875 \r\nQ 22.515625 -1.421875 17.65625 -0.515625 \r\nQ 12.796875 0.390625 7.625 2.203125 \r\nL 7.625 11.71875 \r\nQ 11.71875 9.328125 16.59375 8.109375 \r\nQ 21.484375 6.890625 26.8125 6.890625 \r\nQ 36.078125 6.890625 40.9375 10.546875 \r\nQ 45.796875 14.203125 45.796875 21.1875 \r\nQ 45.796875 27.640625 41.28125 31.265625 \r\nQ 36.765625 34.90625 28.71875 34.90625 \r\nL 20.21875 34.90625 \r\nL 20.21875 43.015625 \r\nL 29.109375 43.015625 \r\nQ 36.375 43.015625 40.234375 45.921875 \r\nQ 44.09375 48.828125 44.09375 54.296875 \r\nQ 44.09375 59.90625 40.109375 62.90625 \r\nQ 36.140625 65.921875 28.71875 65.921875 \r\nQ 24.65625 65.921875 20.015625 65.03125 \r\nQ 15.375 64.15625 9.8125 62.3125 \r\nL 9.8125 71.09375 \r\nQ 15.4375 72.65625 20.34375 73.4375 \r\nQ 25.25 74.21875 29.59375 74.21875 \r\nQ 40.828125 74.21875 47.359375 69.109375 \r\nQ 53.90625 64.015625 53.90625 55.328125 \r\nQ 53.90625 49.265625 50.4375 45.09375 \r\nQ 46.96875 40.921875 40.578125 39.3125 \r\nz\r\n\" id=\"DejaVuSans-51\"/>\r\n      </defs>\r\n      <g transform=\"translate(135.093466 254.356562)scale(0.1 -0.1)\">\r\n       <use xlink:href=\"#DejaVuSans-51\"/>\r\n      </g>\r\n     </g>\r\n    </g>\r\n    <g id=\"xtick_4\">\r\n     <g id=\"line2d_7\">\r\n      <path clip-path=\"url(#pcb307bc001)\" d=\"M 176.32017 239.758125 \r\nL 176.32017 22.318125 \r\n\" style=\"fill:none;stroke:#b0b0b0;stroke-linecap:square;stroke-width:0.8;\"/>\r\n     </g>\r\n     <g id=\"line2d_8\">\r\n      <g>\r\n       <use style=\"stroke:#000000;stroke-width:0.8;\" x=\"176.32017\" xlink:href=\"#ma3c3a193e4\" y=\"239.758125\"/>\r\n      </g>\r\n     </g>\r\n     <g id=\"text_4\">\r\n      <!-- 4 -->\r\n      <defs>\r\n       <path d=\"M 37.796875 64.3125 \r\nL 12.890625 25.390625 \r\nL 37.796875 25.390625 \r\nz\r\nM 35.203125 72.90625 \r\nL 47.609375 72.90625 \r\nL 47.609375 25.390625 \r\nL 58.015625 25.390625 \r\nL 58.015625 17.1875 \r\nL 47.609375 17.1875 \r\nL 47.609375 0 \r\nL 37.796875 0 \r\nL 37.796875 17.1875 \r\nL 4.890625 17.1875 \r\nL 4.890625 26.703125 \r\nz\r\n\" id=\"DejaVuSans-52\"/>\r\n      </defs>\r\n      <g transform=\"translate(173.13892 254.356562)scale(0.1 -0.1)\">\r\n       <use xlink:href=\"#DejaVuSans-52\"/>\r\n      </g>\r\n     </g>\r\n    </g>\r\n    <g id=\"xtick_5\">\r\n     <g id=\"line2d_9\">\r\n      <path clip-path=\"url(#pcb307bc001)\" d=\"M 214.365625 239.758125 \r\nL 214.365625 22.318125 \r\n\" style=\"fill:none;stroke:#b0b0b0;stroke-linecap:square;stroke-width:0.8;\"/>\r\n     </g>\r\n     <g id=\"line2d_10\">\r\n      <g>\r\n       <use style=\"stroke:#000000;stroke-width:0.8;\" x=\"214.365625\" xlink:href=\"#ma3c3a193e4\" y=\"239.758125\"/>\r\n      </g>\r\n     </g>\r\n     <g id=\"text_5\">\r\n      <!-- 5 -->\r\n      <defs>\r\n       <path d=\"M 10.796875 72.90625 \r\nL 49.515625 72.90625 \r\nL 49.515625 64.59375 \r\nL 19.828125 64.59375 \r\nL 19.828125 46.734375 \r\nQ 21.96875 47.46875 24.109375 47.828125 \r\nQ 26.265625 48.1875 28.421875 48.1875 \r\nQ 40.625 48.1875 47.75 41.5 \r\nQ 54.890625 34.8125 54.890625 23.390625 \r\nQ 54.890625 11.625 47.5625 5.09375 \r\nQ 40.234375 -1.421875 26.90625 -1.421875 \r\nQ 22.3125 -1.421875 17.546875 -0.640625 \r\nQ 12.796875 0.140625 7.71875 1.703125 \r\nL 7.71875 11.625 \r\nQ 12.109375 9.234375 16.796875 8.0625 \r\nQ 21.484375 6.890625 26.703125 6.890625 \r\nQ 35.15625 6.890625 40.078125 11.328125 \r\nQ 45.015625 15.765625 45.015625 23.390625 \r\nQ 45.015625 31 40.078125 35.4375 \r\nQ 35.15625 39.890625 26.703125 39.890625 \r\nQ 22.75 39.890625 18.8125 39.015625 \r\nQ 14.890625 38.140625 10.796875 36.28125 \r\nz\r\n\" id=\"DejaVuSans-53\"/>\r\n      </defs>\r\n      <g transform=\"translate(211.184375 254.356562)scale(0.1 -0.1)\">\r\n       <use xlink:href=\"#DejaVuSans-53\"/>\r\n      </g>\r\n     </g>\r\n    </g>\r\n    <g id=\"xtick_6\">\r\n     <g id=\"line2d_11\">\r\n      <path clip-path=\"url(#pcb307bc001)\" d=\"M 252.41108 239.758125 \r\nL 252.41108 22.318125 \r\n\" style=\"fill:none;stroke:#b0b0b0;stroke-linecap:square;stroke-width:0.8;\"/>\r\n     </g>\r\n     <g id=\"line2d_12\">\r\n      <g>\r\n       <use style=\"stroke:#000000;stroke-width:0.8;\" x=\"252.41108\" xlink:href=\"#ma3c3a193e4\" y=\"239.758125\"/>\r\n      </g>\r\n     </g>\r\n     <g id=\"text_6\">\r\n      <!-- 6 -->\r\n      <defs>\r\n       <path d=\"M 33.015625 40.375 \r\nQ 26.375 40.375 22.484375 35.828125 \r\nQ 18.609375 31.296875 18.609375 23.390625 \r\nQ 18.609375 15.53125 22.484375 10.953125 \r\nQ 26.375 6.390625 33.015625 6.390625 \r\nQ 39.65625 6.390625 43.53125 10.953125 \r\nQ 47.40625 15.53125 47.40625 23.390625 \r\nQ 47.40625 31.296875 43.53125 35.828125 \r\nQ 39.65625 40.375 33.015625 40.375 \r\nz\r\nM 52.59375 71.296875 \r\nL 52.59375 62.3125 \r\nQ 48.875 64.0625 45.09375 64.984375 \r\nQ 41.3125 65.921875 37.59375 65.921875 \r\nQ 27.828125 65.921875 22.671875 59.328125 \r\nQ 17.53125 52.734375 16.796875 39.40625 \r\nQ 19.671875 43.65625 24.015625 45.921875 \r\nQ 28.375 48.1875 33.59375 48.1875 \r\nQ 44.578125 48.1875 50.953125 41.515625 \r\nQ 57.328125 34.859375 57.328125 23.390625 \r\nQ 57.328125 12.15625 50.6875 5.359375 \r\nQ 44.046875 -1.421875 33.015625 -1.421875 \r\nQ 20.359375 -1.421875 13.671875 8.265625 \r\nQ 6.984375 17.96875 6.984375 36.375 \r\nQ 6.984375 53.65625 15.1875 63.9375 \r\nQ 23.390625 74.21875 37.203125 74.21875 \r\nQ 40.921875 74.21875 44.703125 73.484375 \r\nQ 48.484375 72.75 52.59375 71.296875 \r\nz\r\n\" id=\"DejaVuSans-54\"/>\r\n      </defs>\r\n      <g transform=\"translate(249.22983 254.356562)scale(0.1 -0.1)\">\r\n       <use xlink:href=\"#DejaVuSans-54\"/>\r\n      </g>\r\n     </g>\r\n    </g>\r\n    <g id=\"xtick_7\">\r\n     <g id=\"line2d_13\">\r\n      <path clip-path=\"url(#pcb307bc001)\" d=\"M 290.456534 239.758125 \r\nL 290.456534 22.318125 \r\n\" style=\"fill:none;stroke:#b0b0b0;stroke-linecap:square;stroke-width:0.8;\"/>\r\n     </g>\r\n     <g id=\"line2d_14\">\r\n      <g>\r\n       <use style=\"stroke:#000000;stroke-width:0.8;\" x=\"290.456534\" xlink:href=\"#ma3c3a193e4\" y=\"239.758125\"/>\r\n      </g>\r\n     </g>\r\n     <g id=\"text_7\">\r\n      <!-- 7 -->\r\n      <defs>\r\n       <path d=\"M 8.203125 72.90625 \r\nL 55.078125 72.90625 \r\nL 55.078125 68.703125 \r\nL 28.609375 0 \r\nL 18.3125 0 \r\nL 43.21875 64.59375 \r\nL 8.203125 64.59375 \r\nz\r\n\" id=\"DejaVuSans-55\"/>\r\n      </defs>\r\n      <g transform=\"translate(287.275284 254.356562)scale(0.1 -0.1)\">\r\n       <use xlink:href=\"#DejaVuSans-55\"/>\r\n      </g>\r\n     </g>\r\n    </g>\r\n    <g id=\"xtick_8\">\r\n     <g id=\"line2d_15\">\r\n      <path clip-path=\"url(#pcb307bc001)\" d=\"M 328.501989 239.758125 \r\nL 328.501989 22.318125 \r\n\" style=\"fill:none;stroke:#b0b0b0;stroke-linecap:square;stroke-width:0.8;\"/>\r\n     </g>\r\n     <g id=\"line2d_16\">\r\n      <g>\r\n       <use style=\"stroke:#000000;stroke-width:0.8;\" x=\"328.501989\" xlink:href=\"#ma3c3a193e4\" y=\"239.758125\"/>\r\n      </g>\r\n     </g>\r\n     <g id=\"text_8\">\r\n      <!-- 8 -->\r\n      <defs>\r\n       <path d=\"M 31.78125 34.625 \r\nQ 24.75 34.625 20.71875 30.859375 \r\nQ 16.703125 27.09375 16.703125 20.515625 \r\nQ 16.703125 13.921875 20.71875 10.15625 \r\nQ 24.75 6.390625 31.78125 6.390625 \r\nQ 38.8125 6.390625 42.859375 10.171875 \r\nQ 46.921875 13.96875 46.921875 20.515625 \r\nQ 46.921875 27.09375 42.890625 30.859375 \r\nQ 38.875 34.625 31.78125 34.625 \r\nz\r\nM 21.921875 38.8125 \r\nQ 15.578125 40.375 12.03125 44.71875 \r\nQ 8.5 49.078125 8.5 55.328125 \r\nQ 8.5 64.0625 14.71875 69.140625 \r\nQ 20.953125 74.21875 31.78125 74.21875 \r\nQ 42.671875 74.21875 48.875 69.140625 \r\nQ 55.078125 64.0625 55.078125 55.328125 \r\nQ 55.078125 49.078125 51.53125 44.71875 \r\nQ 48 40.375 41.703125 38.8125 \r\nQ 48.828125 37.15625 52.796875 32.3125 \r\nQ 56.78125 27.484375 56.78125 20.515625 \r\nQ 56.78125 9.90625 50.3125 4.234375 \r\nQ 43.84375 -1.421875 31.78125 -1.421875 \r\nQ 19.734375 -1.421875 13.25 4.234375 \r\nQ 6.78125 9.90625 6.78125 20.515625 \r\nQ 6.78125 27.484375 10.78125 32.3125 \r\nQ 14.796875 37.15625 21.921875 38.8125 \r\nz\r\nM 18.3125 54.390625 \r\nQ 18.3125 48.734375 21.84375 45.5625 \r\nQ 25.390625 42.390625 31.78125 42.390625 \r\nQ 38.140625 42.390625 41.71875 45.5625 \r\nQ 45.3125 48.734375 45.3125 54.390625 \r\nQ 45.3125 60.0625 41.71875 63.234375 \r\nQ 38.140625 66.40625 31.78125 66.40625 \r\nQ 25.390625 66.40625 21.84375 63.234375 \r\nQ 18.3125 60.0625 18.3125 54.390625 \r\nz\r\n\" id=\"DejaVuSans-56\"/>\r\n      </defs>\r\n      <g transform=\"translate(325.320739 254.356562)scale(0.1 -0.1)\">\r\n       <use xlink:href=\"#DejaVuSans-56\"/>\r\n      </g>\r\n     </g>\r\n    </g>\r\n    <g id=\"xtick_9\">\r\n     <g id=\"line2d_17\">\r\n      <path clip-path=\"url(#pcb307bc001)\" d=\"M 366.547443 239.758125 \r\nL 366.547443 22.318125 \r\n\" style=\"fill:none;stroke:#b0b0b0;stroke-linecap:square;stroke-width:0.8;\"/>\r\n     </g>\r\n     <g id=\"line2d_18\">\r\n      <g>\r\n       <use style=\"stroke:#000000;stroke-width:0.8;\" x=\"366.547443\" xlink:href=\"#ma3c3a193e4\" y=\"239.758125\"/>\r\n      </g>\r\n     </g>\r\n     <g id=\"text_9\">\r\n      <!-- 9 -->\r\n      <defs>\r\n       <path d=\"M 10.984375 1.515625 \r\nL 10.984375 10.5 \r\nQ 14.703125 8.734375 18.5 7.8125 \r\nQ 22.3125 6.890625 25.984375 6.890625 \r\nQ 35.75 6.890625 40.890625 13.453125 \r\nQ 46.046875 20.015625 46.78125 33.40625 \r\nQ 43.953125 29.203125 39.59375 26.953125 \r\nQ 35.25 24.703125 29.984375 24.703125 \r\nQ 19.046875 24.703125 12.671875 31.3125 \r\nQ 6.296875 37.9375 6.296875 49.421875 \r\nQ 6.296875 60.640625 12.9375 67.421875 \r\nQ 19.578125 74.21875 30.609375 74.21875 \r\nQ 43.265625 74.21875 49.921875 64.515625 \r\nQ 56.59375 54.828125 56.59375 36.375 \r\nQ 56.59375 19.140625 48.40625 8.859375 \r\nQ 40.234375 -1.421875 26.421875 -1.421875 \r\nQ 22.703125 -1.421875 18.890625 -0.6875 \r\nQ 15.09375 0.046875 10.984375 1.515625 \r\nz\r\nM 30.609375 32.421875 \r\nQ 37.25 32.421875 41.125 36.953125 \r\nQ 45.015625 41.5 45.015625 49.421875 \r\nQ 45.015625 57.28125 41.125 61.84375 \r\nQ 37.25 66.40625 30.609375 66.40625 \r\nQ 23.96875 66.40625 20.09375 61.84375 \r\nQ 16.21875 57.28125 16.21875 49.421875 \r\nQ 16.21875 41.5 20.09375 36.953125 \r\nQ 23.96875 32.421875 30.609375 32.421875 \r\nz\r\n\" id=\"DejaVuSans-57\"/>\r\n      </defs>\r\n      <g transform=\"translate(363.366193 254.356562)scale(0.1 -0.1)\">\r\n       <use xlink:href=\"#DejaVuSans-57\"/>\r\n      </g>\r\n     </g>\r\n    </g>\r\n    <g id=\"text_10\">\r\n     <!-- Радиус -->\r\n     <defs>\r\n      <path d=\"M 19.671875 64.796875 \r\nL 19.671875 37.40625 \r\nL 32.078125 37.40625 \r\nQ 38.96875 37.40625 42.71875 40.96875 \r\nQ 46.484375 44.53125 46.484375 51.125 \r\nQ 46.484375 57.671875 42.71875 61.234375 \r\nQ 38.96875 64.796875 32.078125 64.796875 \r\nz\r\nM 9.8125 72.90625 \r\nL 32.078125 72.90625 \r\nQ 44.34375 72.90625 50.609375 67.359375 \r\nQ 56.890625 61.8125 56.890625 51.125 \r\nQ 56.890625 40.328125 50.609375 34.8125 \r\nQ 44.34375 29.296875 32.078125 29.296875 \r\nL 19.671875 29.296875 \r\nL 19.671875 0 \r\nL 9.8125 0 \r\nz\r\n\" id=\"DejaVuSans-1056\"/>\r\n      <path d=\"M 34.28125 27.484375 \r\nQ 23.390625 27.484375 19.1875 25 \r\nQ 14.984375 22.515625 14.984375 16.5 \r\nQ 14.984375 11.71875 18.140625 8.90625 \r\nQ 21.296875 6.109375 26.703125 6.109375 \r\nQ 34.1875 6.109375 38.703125 11.40625 \r\nQ 43.21875 16.703125 43.21875 25.484375 \r\nL 43.21875 27.484375 \r\nz\r\nM 52.203125 31.203125 \r\nL 52.203125 0 \r\nL 43.21875 0 \r\nL 43.21875 8.296875 \r\nQ 40.140625 3.328125 35.546875 0.953125 \r\nQ 30.953125 -1.421875 24.3125 -1.421875 \r\nQ 15.921875 -1.421875 10.953125 3.296875 \r\nQ 6 8.015625 6 15.921875 \r\nQ 6 25.140625 12.171875 29.828125 \r\nQ 18.359375 34.515625 30.609375 34.515625 \r\nL 43.21875 34.515625 \r\nL 43.21875 35.40625 \r\nQ 43.21875 41.609375 39.140625 45 \r\nQ 35.0625 48.390625 27.6875 48.390625 \r\nQ 23 48.390625 18.546875 47.265625 \r\nQ 14.109375 46.140625 10.015625 43.890625 \r\nL 10.015625 52.203125 \r\nQ 14.9375 54.109375 19.578125 55.046875 \r\nQ 24.21875 56 28.609375 56 \r\nQ 40.484375 56 46.34375 49.84375 \r\nQ 52.203125 43.703125 52.203125 31.203125 \r\nz\r\n\" id=\"DejaVuSans-1072\"/>\r\n      <path d=\"M 21.625 7.171875 \r\nL 47.703125 7.171875 \r\nL 47.703125 47.515625 \r\nL 28.8125 47.515625 \r\nL 28.8125 40.671875 \r\nQ 28.8125 20.5625 23.046875 9.8125 \r\nz\r\nM 8.59375 7.171875 \r\nQ 13.03125 9.125 14.984375 13.28125 \r\nQ 19.78125 23.578125 19.78125 44.34375 \r\nL 19.78125 54.6875 \r\nL 56.734375 54.6875 \r\nL 56.734375 7.171875 \r\nL 63.921875 7.171875 \r\nL 63.921875 -13.8125 \r\nL 56.734375 -13.8125 \r\nL 56.734375 0 \r\nL 12.40625 0 \r\nL 12.40625 -13.8125 \r\nL 5.21875 -13.8125 \r\nL 5.21875 7.171875 \r\nz\r\n\" id=\"DejaVuSans-1076\"/>\r\n      <path d=\"M 55.90625 54.6875 \r\nL 55.90625 0 \r\nL 46.96875 0 \r\nL 46.96875 43.890625 \r\nL 20.609375 0 \r\nL 9.078125 0 \r\nL 9.078125 54.6875 \r\nL 18.015625 54.6875 \r\nL 18.015625 10.890625 \r\nL 44.34375 54.6875 \r\nz\r\n\" id=\"DejaVuSans-1080\"/>\r\n      <path d=\"M 32.171875 -5.078125 \r\nQ 28.375 -14.84375 24.75 -17.8125 \r\nQ 21.140625 -20.796875 15.09375 -20.796875 \r\nL 7.90625 -20.796875 \r\nL 7.90625 -13.28125 \r\nL 13.1875 -13.28125 \r\nQ 16.890625 -13.28125 18.9375 -11.515625 \r\nQ 21 -9.765625 23.484375 -3.21875 \r\nL 25.09375 0.875 \r\nL 2.984375 54.6875 \r\nL 12.5 54.6875 \r\nL 29.59375 11.921875 \r\nL 46.6875 54.6875 \r\nL 56.203125 54.6875 \r\nz\r\n\" id=\"DejaVuSans-1091\"/>\r\n      <path d=\"M 48.78125 52.59375 \r\nL 48.78125 44.1875 \r\nQ 44.96875 46.296875 41.140625 47.34375 \r\nQ 37.3125 48.390625 33.40625 48.390625 \r\nQ 24.65625 48.390625 19.8125 42.84375 \r\nQ 14.984375 37.3125 14.984375 27.296875 \r\nQ 14.984375 17.28125 19.8125 11.734375 \r\nQ 24.65625 6.203125 33.40625 6.203125 \r\nQ 37.3125 6.203125 41.140625 7.25 \r\nQ 44.96875 8.296875 48.78125 10.40625 \r\nL 48.78125 2.09375 \r\nQ 45.015625 0.34375 40.984375 -0.53125 \r\nQ 36.96875 -1.421875 32.421875 -1.421875 \r\nQ 20.0625 -1.421875 12.78125 6.34375 \r\nQ 5.515625 14.109375 5.515625 27.296875 \r\nQ 5.515625 40.671875 12.859375 48.328125 \r\nQ 20.21875 56 33.015625 56 \r\nQ 37.15625 56 41.109375 55.140625 \r\nQ 45.0625 54.296875 48.78125 52.59375 \r\nz\r\n\" id=\"DejaVuSans-1089\"/>\r\n     </defs>\r\n     <g transform=\"translate(195.871875 268.034687)scale(0.1 -0.1)\">\r\n      <use xlink:href=\"#DejaVuSans-1056\"/>\r\n      <use x=\"60.302734\" xlink:href=\"#DejaVuSans-1072\"/>\r\n      <use x=\"121.582031\" xlink:href=\"#DejaVuSans-1076\"/>\r\n      <use x=\"190.722656\" xlink:href=\"#DejaVuSans-1080\"/>\r\n      <use x=\"255.712891\" xlink:href=\"#DejaVuSans-1091\"/>\r\n      <use x=\"314.892578\" xlink:href=\"#DejaVuSans-1089\"/>\r\n     </g>\r\n    </g>\r\n   </g>\r\n   <g id=\"matplotlib.axis_2\">\r\n    <g id=\"ytick_1\">\r\n     <g id=\"line2d_19\">\r\n      <path clip-path=\"url(#pcb307bc001)\" d=\"M 46.965625 232.345398 \r\nL 381.765625 232.345398 \r\n\" style=\"fill:none;stroke:#b0b0b0;stroke-linecap:square;stroke-width:0.8;\"/>\r\n     </g>\r\n     <g id=\"line2d_20\">\r\n      <defs>\r\n       <path d=\"M 0 0 \r\nL -3.5 0 \r\n\" id=\"m62077f7e4a\" style=\"stroke:#000000;stroke-width:0.8;\"/>\r\n      </defs>\r\n      <g>\r\n       <use style=\"stroke:#000000;stroke-width:0.8;\" x=\"46.965625\" xlink:href=\"#m62077f7e4a\" y=\"232.345398\"/>\r\n      </g>\r\n     </g>\r\n     <g id=\"text_11\">\r\n      <!-- 0 -->\r\n      <defs>\r\n       <path d=\"M 31.78125 66.40625 \r\nQ 24.171875 66.40625 20.328125 58.90625 \r\nQ 16.5 51.421875 16.5 36.375 \r\nQ 16.5 21.390625 20.328125 13.890625 \r\nQ 24.171875 6.390625 31.78125 6.390625 \r\nQ 39.453125 6.390625 43.28125 13.890625 \r\nQ 47.125 21.390625 47.125 36.375 \r\nQ 47.125 51.421875 43.28125 58.90625 \r\nQ 39.453125 66.40625 31.78125 66.40625 \r\nz\r\nM 31.78125 74.21875 \r\nQ 44.046875 74.21875 50.515625 64.515625 \r\nQ 56.984375 54.828125 56.984375 36.375 \r\nQ 56.984375 17.96875 50.515625 8.265625 \r\nQ 44.046875 -1.421875 31.78125 -1.421875 \r\nQ 19.53125 -1.421875 13.0625 8.265625 \r\nQ 6.59375 17.96875 6.59375 36.375 \r\nQ 6.59375 54.828125 13.0625 64.515625 \r\nQ 19.53125 74.21875 31.78125 74.21875 \r\nz\r\n\" id=\"DejaVuSans-48\"/>\r\n      </defs>\r\n      <g transform=\"translate(33.603125 236.144616)scale(0.1 -0.1)\">\r\n       <use xlink:href=\"#DejaVuSans-48\"/>\r\n      </g>\r\n     </g>\r\n    </g>\r\n    <g id=\"ytick_2\">\r\n     <g id=\"line2d_21\">\r\n      <path clip-path=\"url(#pcb307bc001)\" d=\"M 46.965625 192.999712 \r\nL 381.765625 192.999712 \r\n\" style=\"fill:none;stroke:#b0b0b0;stroke-linecap:square;stroke-width:0.8;\"/>\r\n     </g>\r\n     <g id=\"line2d_22\">\r\n      <g>\r\n       <use style=\"stroke:#000000;stroke-width:0.8;\" x=\"46.965625\" xlink:href=\"#m62077f7e4a\" y=\"192.999712\"/>\r\n      </g>\r\n     </g>\r\n     <g id=\"text_12\">\r\n      <!-- 50 -->\r\n      <g transform=\"translate(27.240625 196.79893)scale(0.1 -0.1)\">\r\n       <use xlink:href=\"#DejaVuSans-53\"/>\r\n       <use x=\"63.623047\" xlink:href=\"#DejaVuSans-48\"/>\r\n      </g>\r\n     </g>\r\n    </g>\r\n    <g id=\"ytick_3\">\r\n     <g id=\"line2d_23\">\r\n      <path clip-path=\"url(#pcb307bc001)\" d=\"M 46.965625 153.654025 \r\nL 381.765625 153.654025 \r\n\" style=\"fill:none;stroke:#b0b0b0;stroke-linecap:square;stroke-width:0.8;\"/>\r\n     </g>\r\n     <g id=\"line2d_24\">\r\n      <g>\r\n       <use style=\"stroke:#000000;stroke-width:0.8;\" x=\"46.965625\" xlink:href=\"#m62077f7e4a\" y=\"153.654025\"/>\r\n      </g>\r\n     </g>\r\n     <g id=\"text_13\">\r\n      <!-- 100 -->\r\n      <g transform=\"translate(20.878125 157.453244)scale(0.1 -0.1)\">\r\n       <use xlink:href=\"#DejaVuSans-49\"/>\r\n       <use x=\"63.623047\" xlink:href=\"#DejaVuSans-48\"/>\r\n       <use x=\"127.246094\" xlink:href=\"#DejaVuSans-48\"/>\r\n      </g>\r\n     </g>\r\n    </g>\r\n    <g id=\"ytick_4\">\r\n     <g id=\"line2d_25\">\r\n      <path clip-path=\"url(#pcb307bc001)\" d=\"M 46.965625 114.308339 \r\nL 381.765625 114.308339 \r\n\" style=\"fill:none;stroke:#b0b0b0;stroke-linecap:square;stroke-width:0.8;\"/>\r\n     </g>\r\n     <g id=\"line2d_26\">\r\n      <g>\r\n       <use style=\"stroke:#000000;stroke-width:0.8;\" x=\"46.965625\" xlink:href=\"#m62077f7e4a\" y=\"114.308339\"/>\r\n      </g>\r\n     </g>\r\n     <g id=\"text_14\">\r\n      <!-- 150 -->\r\n      <g transform=\"translate(20.878125 118.107558)scale(0.1 -0.1)\">\r\n       <use xlink:href=\"#DejaVuSans-49\"/>\r\n       <use x=\"63.623047\" xlink:href=\"#DejaVuSans-53\"/>\r\n       <use x=\"127.246094\" xlink:href=\"#DejaVuSans-48\"/>\r\n      </g>\r\n     </g>\r\n    </g>\r\n    <g id=\"ytick_5\">\r\n     <g id=\"line2d_27\">\r\n      <path clip-path=\"url(#pcb307bc001)\" d=\"M 46.965625 74.962653 \r\nL 381.765625 74.962653 \r\n\" style=\"fill:none;stroke:#b0b0b0;stroke-linecap:square;stroke-width:0.8;\"/>\r\n     </g>\r\n     <g id=\"line2d_28\">\r\n      <g>\r\n       <use style=\"stroke:#000000;stroke-width:0.8;\" x=\"46.965625\" xlink:href=\"#m62077f7e4a\" y=\"74.962653\"/>\r\n      </g>\r\n     </g>\r\n     <g id=\"text_15\">\r\n      <!-- 200 -->\r\n      <g transform=\"translate(20.878125 78.761872)scale(0.1 -0.1)\">\r\n       <use xlink:href=\"#DejaVuSans-50\"/>\r\n       <use x=\"63.623047\" xlink:href=\"#DejaVuSans-48\"/>\r\n       <use x=\"127.246094\" xlink:href=\"#DejaVuSans-48\"/>\r\n      </g>\r\n     </g>\r\n    </g>\r\n    <g id=\"ytick_6\">\r\n     <g id=\"line2d_29\">\r\n      <path clip-path=\"url(#pcb307bc001)\" d=\"M 46.965625 35.616967 \r\nL 381.765625 35.616967 \r\n\" style=\"fill:none;stroke:#b0b0b0;stroke-linecap:square;stroke-width:0.8;\"/>\r\n     </g>\r\n     <g id=\"line2d_30\">\r\n      <g>\r\n       <use style=\"stroke:#000000;stroke-width:0.8;\" x=\"46.965625\" xlink:href=\"#m62077f7e4a\" y=\"35.616967\"/>\r\n      </g>\r\n     </g>\r\n     <g id=\"text_16\">\r\n      <!-- 250 -->\r\n      <g transform=\"translate(20.878125 39.416186)scale(0.1 -0.1)\">\r\n       <use xlink:href=\"#DejaVuSans-50\"/>\r\n       <use x=\"63.623047\" xlink:href=\"#DejaVuSans-53\"/>\r\n       <use x=\"127.246094\" xlink:href=\"#DejaVuSans-48\"/>\r\n      </g>\r\n     </g>\r\n    </g>\r\n    <g id=\"text_17\">\r\n     <!-- Площадь, м3 -->\r\n     <defs>\r\n      <path d=\"M 65.375 72.90625 \r\nL 65.375 0 \r\nL 55.515625 0 \r\nL 55.515625 64.59375 \r\nL 19.671875 64.59375 \r\nL 19.671875 0 \r\nL 9.8125 0 \r\nL 9.8125 72.90625 \r\nz\r\n\" id=\"DejaVuSans-1055\"/>\r\n      <path d=\"M 3.71875 0 \r\nL 3.71875 7.46875 \r\nQ 12.59375 8.84375 15.328125 14.984375 \r\nQ 18.65625 23.640625 18.65625 45.75 \r\nL 18.65625 54.6875 \r\nL 55.609375 54.6875 \r\nL 55.609375 0 \r\nL 46.625 0 \r\nL 46.625 47.515625 \r\nL 27.640625 47.515625 \r\nL 27.640625 42.09375 \r\nQ 27.640625 21 23.34375 11.53125 \r\nQ 18.75 1.421875 3.71875 0 \r\nz\r\n\" id=\"DejaVuSans-1083\"/>\r\n      <path d=\"M 30.609375 48.390625 \r\nQ 23.390625 48.390625 19.1875 42.75 \r\nQ 14.984375 37.109375 14.984375 27.296875 \r\nQ 14.984375 17.484375 19.15625 11.84375 \r\nQ 23.34375 6.203125 30.609375 6.203125 \r\nQ 37.796875 6.203125 41.984375 11.859375 \r\nQ 46.1875 17.53125 46.1875 27.296875 \r\nQ 46.1875 37.015625 41.984375 42.703125 \r\nQ 37.796875 48.390625 30.609375 48.390625 \r\nz\r\nM 30.609375 56 \r\nQ 42.328125 56 49.015625 48.375 \r\nQ 55.71875 40.765625 55.71875 27.296875 \r\nQ 55.71875 13.875 49.015625 6.21875 \r\nQ 42.328125 -1.421875 30.609375 -1.421875 \r\nQ 18.84375 -1.421875 12.171875 6.21875 \r\nQ 5.515625 13.875 5.515625 27.296875 \r\nQ 5.515625 40.765625 12.171875 48.375 \r\nQ 18.84375 56 30.609375 56 \r\nz\r\n\" id=\"DejaVuSans-1086\"/>\r\n      <path d=\"M 82.421875 0 \r\nL 9.078125 0 \r\nL 9.078125 54.6875 \r\nL 18.109375 54.6875 \r\nL 18.109375 7.171875 \r\nL 41.21875 7.171875 \r\nL 41.21875 54.6875 \r\nL 50.25 54.6875 \r\nL 50.25 7.171875 \r\nL 73.390625 7.171875 \r\nL 73.390625 54.6875 \r\nL 82.421875 54.6875 \r\nL 82.421875 7.171875 \r\nL 89.59375 7.171875 \r\nL 89.59375 -13.8125 \r\nL 82.421875 -13.8125 \r\nz\r\n\" id=\"DejaVuSans-1097\"/>\r\n      <path d=\"M 43.453125 16.21875 \r\nQ 43.453125 20.609375 40.25 22.90625 \r\nQ 37.0625 25.203125 30.90625 25.203125 \r\nL 18.109375 25.203125 \r\nL 18.109375 7.171875 \r\nL 30.90625 7.171875 \r\nQ 37.0625 7.171875 40.25 9.484375 \r\nQ 43.453125 11.8125 43.453125 16.21875 \r\nz\r\nM 9.078125 54.6875 \r\nL 18.109375 54.6875 \r\nL 18.109375 32.375 \r\nL 31.296875 32.375 \r\nQ 41.75 32.375 47.390625 28.390625 \r\nQ 53.03125 24.421875 53.03125 16.21875 \r\nQ 53.03125 8.015625 47.390625 4 \r\nQ 41.75 0 31.296875 0 \r\nL 9.078125 0 \r\nz\r\n\" id=\"DejaVuSans-1100\"/>\r\n      <path d=\"M 11.71875 12.40625 \r\nL 22.015625 12.40625 \r\nL 22.015625 4 \r\nL 14.015625 -11.625 \r\nL 7.71875 -11.625 \r\nL 11.71875 4 \r\nz\r\n\" id=\"DejaVuSans-44\"/>\r\n      <path id=\"DejaVuSans-32\"/>\r\n      <path d=\"M 9.078125 54.6875 \r\nL 22.21875 54.6875 \r\nL 37.75 18.0625 \r\nL 53.328125 54.6875 \r\nL 66.359375 54.6875 \r\nL 66.359375 0 \r\nL 57.328125 0 \r\nL 57.328125 46.09375 \r\nL 42.234375 10.5 \r\nL 33.25 10.5 \r\nL 18.109375 46.09375 \r\nL 18.109375 0 \r\nL 9.078125 0 \r\nz\r\n\" id=\"DejaVuSans-1084\"/>\r\n     </defs>\r\n     <g transform=\"translate(14.798438 165.362344)rotate(-90)scale(0.1 -0.1)\">\r\n      <use xlink:href=\"#DejaVuSans-1055\"/>\r\n      <use x=\"75.195312\" xlink:href=\"#DejaVuSans-1083\"/>\r\n      <use x=\"139.111328\" xlink:href=\"#DejaVuSans-1086\"/>\r\n      <use x=\"200.292969\" xlink:href=\"#DejaVuSans-1097\"/>\r\n      <use x=\"294.482422\" xlink:href=\"#DejaVuSans-1072\"/>\r\n      <use x=\"355.761719\" xlink:href=\"#DejaVuSans-1076\"/>\r\n      <use x=\"424.902344\" xlink:href=\"#DejaVuSans-1100\"/>\r\n      <use x=\"483.837891\" xlink:href=\"#DejaVuSans-44\"/>\r\n      <use x=\"515.625\" xlink:href=\"#DejaVuSans-32\"/>\r\n      <use x=\"547.412109\" xlink:href=\"#DejaVuSans-1084\"/>\r\n      <use x=\"622.851562\" xlink:href=\"#DejaVuSans-51\"/>\r\n     </g>\r\n    </g>\r\n   </g>\r\n   <g id=\"line2d_31\">\r\n    <path clip-path=\"url(#pcb307bc001)\" d=\"M 62.183807 229.874489 \r\nL 100.229261 222.461761 \r\nL 138.274716 210.107216 \r\nL 176.32017 192.810852 \r\nL 214.365625 170.57267 \r\nL 252.41108 143.39267 \r\nL 290.456534 111.270852 \r\nL 328.501989 74.207216 \r\nL 366.547443 32.201761 \r\n\" style=\"fill:none;stroke:#1f77b4;stroke-dasharray:5.55,2.4;stroke-dashoffset:0;stroke-width:1.5;\"/>\r\n   </g>\r\n   <g id=\"patch_3\">\r\n    <path d=\"M 46.965625 239.758125 \r\nL 46.965625 22.318125 \r\n\" style=\"fill:none;stroke:#000000;stroke-linecap:square;stroke-linejoin:miter;stroke-width:0.8;\"/>\r\n   </g>\r\n   <g id=\"patch_4\">\r\n    <path d=\"M 381.765625 239.758125 \r\nL 381.765625 22.318125 \r\n\" style=\"fill:none;stroke:#000000;stroke-linecap:square;stroke-linejoin:miter;stroke-width:0.8;\"/>\r\n   </g>\r\n   <g id=\"patch_5\">\r\n    <path d=\"M 46.965625 239.758125 \r\nL 381.765625 239.758125 \r\n\" style=\"fill:none;stroke:#000000;stroke-linecap:square;stroke-linejoin:miter;stroke-width:0.8;\"/>\r\n   </g>\r\n   <g id=\"patch_6\">\r\n    <path d=\"M 46.965625 22.318125 \r\nL 381.765625 22.318125 \r\n\" style=\"fill:none;stroke:#000000;stroke-linecap:square;stroke-linejoin:miter;stroke-width:0.8;\"/>\r\n   </g>\r\n   <g id=\"text_18\">\r\n    <!-- Зависимость площади от радиуса -->\r\n    <defs>\r\n     <path d=\"M 28.5625 74.21875 \r\nQ 40.578125 74.21875 48.1875 69.109375 \r\nQ 55.8125 64.015625 55.8125 55.328125 \r\nQ 55.8125 49.265625 52.34375 45.09375 \r\nQ 48.875 40.921875 42.484375 39.3125 \r\nQ 49.5625 37.796875 53.53125 33 \r\nQ 57.515625 28.21875 57.515625 21.1875 \r\nQ 57.515625 9.96875 48.84375 4.265625 \r\nQ 40.1875 -1.421875 28.5625 -1.421875 \r\nQ 22.609375 -1.421875 15.671875 0.1875 \r\nQ 8.734375 1.8125 6.59375 3.171875 \r\nL 6.59375 13.328125 \r\nQ 14.0625 8.984375 18.1875 7.9375 \r\nQ 22.3125 6.890625 28.375 6.890625 \r\nQ 37.546875 6.890625 42.625 10.40625 \r\nQ 47.703125 13.921875 47.703125 21.1875 \r\nQ 47.703125 27.640625 43.1875 31.265625 \r\nQ 38.671875 34.90625 29.15625 34.90625 \r\nL 19.1875 34.90625 \r\nL 19.1875 43.015625 \r\nL 29.546875 43.015625 \r\nQ 38.28125 43.015625 42.140625 45.921875 \r\nQ 46 48.828125 46 54.296875 \r\nQ 46 59.90625 42.015625 62.90625 \r\nQ 38.03125 65.921875 28.375 65.921875 \r\nQ 21.828125 65.921875 19.578125 65.328125 \r\nQ 17.328125 64.75 7.328125 60.984375 \r\nL 7.328125 70.609375 \r\nQ 12.84375 72.5625 18.59375 73.390625 \r\nQ 24.359375 74.21875 28.5625 74.21875 \r\nz\r\n\" id=\"DejaVuSans-1047\"/>\r\n     <path d=\"M 18.0625 25.203125 \r\nL 18.0625 7.171875 \r\nL 30.859375 7.171875 \r\nQ 37.015625 7.171875 40.234375 9.484375 \r\nQ 43.453125 11.8125 43.453125 16.21875 \r\nQ 43.453125 20.609375 40.234375 22.90625 \r\nQ 37.015625 25.203125 30.859375 25.203125 \r\nz\r\nM 18.0625 47.515625 \r\nL 18.0625 32.375 \r\nL 29.890625 32.375 \r\nQ 34.96875 32.375 38.1875 34.390625 \r\nQ 41.40625 36.421875 41.40625 40.046875 \r\nQ 41.40625 43.65625 38.1875 45.578125 \r\nQ 34.96875 47.515625 29.890625 47.515625 \r\nz\r\nM 9.078125 54.6875 \r\nL 30.46875 54.6875 \r\nQ 40.09375 54.6875 45.265625 51.171875 \r\nQ 50.4375 47.65625 50.4375 41.15625 \r\nQ 50.4375 36.140625 47.796875 33.171875 \r\nQ 45.171875 30.21875 39.984375 29.5 \r\nQ 46.1875 28.328125 49.609375 24.609375 \r\nQ 53.03125 20.90625 53.03125 15.328125 \r\nQ 53.03125 8.015625 47.390625 4 \r\nQ 41.75 0 31.296875 0 \r\nL 9.078125 0 \r\nz\r\n\" id=\"DejaVuSans-1074\"/>\r\n     <path d=\"M 2.9375 54.6875 \r\nL 55.328125 54.6875 \r\nL 55.328125 47.515625 \r\nL 33.546875 47.515625 \r\nL 33.546875 0 \r\nL 24.703125 0 \r\nL 24.703125 47.515625 \r\nL 2.9375 47.515625 \r\nz\r\n\" id=\"DejaVuSans-1090\"/>\r\n     <path d=\"M 56.296875 54.6875 \r\nL 56.296875 0 \r\nL 47.265625 0 \r\nL 47.265625 47.515625 \r\nL 18.109375 47.515625 \r\nL 18.109375 0 \r\nL 9.078125 0 \r\nL 9.078125 54.6875 \r\nz\r\n\" id=\"DejaVuSans-1087\"/>\r\n     <path d=\"M 18.109375 8.203125 \r\nL 18.109375 -20.796875 \r\nL 9.078125 -20.796875 \r\nL 9.078125 54.6875 \r\nL 18.109375 54.6875 \r\nL 18.109375 46.390625 \r\nQ 20.953125 51.265625 25.265625 53.625 \r\nQ 29.59375 56 35.59375 56 \r\nQ 45.5625 56 51.78125 48.09375 \r\nQ 58.015625 40.1875 58.015625 27.296875 \r\nQ 58.015625 14.40625 51.78125 6.484375 \r\nQ 45.5625 -1.421875 35.59375 -1.421875 \r\nQ 29.59375 -1.421875 25.265625 0.953125 \r\nQ 20.953125 3.328125 18.109375 8.203125 \r\nz\r\nM 48.6875 27.296875 \r\nQ 48.6875 37.203125 44.609375 42.84375 \r\nQ 40.53125 48.484375 33.40625 48.484375 \r\nQ 26.265625 48.484375 22.1875 42.84375 \r\nQ 18.109375 37.203125 18.109375 27.296875 \r\nQ 18.109375 17.390625 22.1875 11.75 \r\nQ 26.265625 6.109375 33.40625 6.109375 \r\nQ 40.53125 6.109375 44.609375 11.75 \r\nQ 48.6875 17.390625 48.6875 27.296875 \r\nz\r\n\" id=\"DejaVuSans-1088\"/>\r\n    </defs>\r\n    <g transform=\"translate(105.92875 16.318125)scale(0.12 -0.12)\">\r\n     <use xlink:href=\"#DejaVuSans-1047\"/>\r\n     <use x=\"64.111328\" xlink:href=\"#DejaVuSans-1072\"/>\r\n     <use x=\"125.390625\" xlink:href=\"#DejaVuSans-1074\"/>\r\n     <use x=\"184.326172\" xlink:href=\"#DejaVuSans-1080\"/>\r\n     <use x=\"249.316406\" xlink:href=\"#DejaVuSans-1089\"/>\r\n     <use x=\"304.296875\" xlink:href=\"#DejaVuSans-1080\"/>\r\n     <use x=\"369.287109\" xlink:href=\"#DejaVuSans-1084\"/>\r\n     <use x=\"444.726562\" xlink:href=\"#DejaVuSans-1086\"/>\r\n     <use x=\"505.908203\" xlink:href=\"#DejaVuSans-1089\"/>\r\n     <use x=\"560.888672\" xlink:href=\"#DejaVuSans-1090\"/>\r\n     <use x=\"619.140625\" xlink:href=\"#DejaVuSans-1100\"/>\r\n     <use x=\"678.076172\" xlink:href=\"#DejaVuSans-32\"/>\r\n     <use x=\"709.863281\" xlink:href=\"#DejaVuSans-1087\"/>\r\n     <use x=\"775.244141\" xlink:href=\"#DejaVuSans-1083\"/>\r\n     <use x=\"839.160156\" xlink:href=\"#DejaVuSans-1086\"/>\r\n     <use x=\"900.341797\" xlink:href=\"#DejaVuSans-1097\"/>\r\n     <use x=\"994.53125\" xlink:href=\"#DejaVuSans-1072\"/>\r\n     <use x=\"1055.810547\" xlink:href=\"#DejaVuSans-1076\"/>\r\n     <use x=\"1124.951172\" xlink:href=\"#DejaVuSans-1080\"/>\r\n     <use x=\"1189.941406\" xlink:href=\"#DejaVuSans-32\"/>\r\n     <use x=\"1221.728516\" xlink:href=\"#DejaVuSans-1086\"/>\r\n     <use x=\"1282.910156\" xlink:href=\"#DejaVuSans-1090\"/>\r\n     <use x=\"1341.162109\" xlink:href=\"#DejaVuSans-32\"/>\r\n     <use x=\"1372.949219\" xlink:href=\"#DejaVuSans-1088\"/>\r\n     <use x=\"1436.425781\" xlink:href=\"#DejaVuSans-1072\"/>\r\n     <use x=\"1497.705078\" xlink:href=\"#DejaVuSans-1076\"/>\r\n     <use x=\"1566.845703\" xlink:href=\"#DejaVuSans-1080\"/>\r\n     <use x=\"1631.835938\" xlink:href=\"#DejaVuSans-1091\"/>\r\n     <use x=\"1691.015625\" xlink:href=\"#DejaVuSans-1089\"/>\r\n     <use x=\"1745.996094\" xlink:href=\"#DejaVuSans-1072\"/>\r\n    </g>\r\n   </g>\r\n  </g>\r\n </g>\r\n <defs>\r\n  <clipPath id=\"pcb307bc001\">\r\n   <rect height=\"217.44\" width=\"334.8\" x=\"46.965625\" y=\"22.318125\"/>\r\n  </clipPath>\r\n </defs>\r\n</svg>\r\n",
      "text/plain": "<Figure size 432x288 with 1 Axes>"
     },
     "metadata": {
      "needs_background": "light"
     },
     "output_type": "display_data"
    }
   ],
   "source": [
    "# Строим график\n",
    "plt.plot(x, y, linestyle = '--')\n",
    "plt.xlabel(r'Радиус')\n",
    "plt.ylabel(r'Площадь, м3')\n",
    "plt.title(r'Зависимость площади от радиуса')\n",
    "plt.grid(True)\n",
    "plt.show()"
   ]
  }
 ],
 "metadata": {
  "kernelspec": {
   "display_name": "Python 3.9.2 64-bit",
   "name": "python392jvsc74a57bd0d3c8ae483133e81bd90adba4937d51dff1c139c9b24d07cfb3343c928af70bb7"
  },
  "language_info": {
   "name": "python",
   "version": ""
  },
  "metadata": {
   "interpreter": {
    "hash": "d3c8ae483133e81bd90adba4937d51dff1c139c9b24d07cfb3343c928af70bb7"
   }
  },
  "orig_nbformat": 2
 },
 "nbformat": 4,
 "nbformat_minor": 2
}